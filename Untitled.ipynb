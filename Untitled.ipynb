{
 "cells": [
  {
   "cell_type": "code",
   "execution_count": 2,
   "metadata": {},
   "outputs": [],
   "source": [
    "import string\n",
    "from pathlib import Path\n",
    "from urllib.parse import urlsplit, urlparse"
   ]
  },
  {
   "cell_type": "code",
   "execution_count": 3,
   "metadata": {},
   "outputs": [],
   "source": [
    "contacts = dict(\n",
    "    name          = ('#'                                                          , 'Alexander Rodionov'       ),\n",
    "    email         = ('mailto:alx1dr@gmail.com'                                    , 'alx1dr@gmail.com'         ),\n",
    "    twitter       = ('https://twitter.com/tandavaya'                              , '@tandavaya'               ),\n",
    "    github        = ('https://github.com/tandav'                                  , 'tandav'                   ),\n",
    "    telegram      = ('tg://resolve?domain=tandav'                                 , '@tandav'                  ),\n",
    "    skype         = ('https://join.skype.com/invite/fsIH6Q0cg0j5'                 , 'alexander21928'           ),\n",
    "    youtube       = ('https://youtube.com/channel/UCbgKryv4gdpJJ7_Rg5i2xyg'       , 'UCbgKryv4gdpJJ7_Rg5i2xyg' ),\n",
    "    lastfm        = ('https://last.fm/user/alx1dr'                                , 'alx1dr'                   ),\n",
    "    gitlab        = ('https://gitlab.com/tandav'                                  , 'tandav'                   ),\n",
    "    bitbucket     = ('https://bitbucket.org/thetandav'                            , 'thetandav'                ),\n",
    "    soundcloud    = ('https://soundcloud.com/thetandav'                           , 'thetandav'                ),\n",
    "    spotify       = ('https://open.spotify.com/user/sfaklyytf1x59ig1h4q31vcd5'    , 'sfaklyytf1x59ig1h4q31vcd5'),\n",
    "    website       = ('https://tandav.github.io'                                   , 'tandav.github.io'         ),\n",
    "    hacker_news   = ('https://news.ycombinator.com/user?id=tandav'                , 'tandav'                   ),\n",
    "    stackoverflow = ('https://stackoverflow.com/users/4204843/tandav'             , '/204843/tandav'           ),\n",
    "    stackexchange = ('https://stackexchange.com/users/5264359/tandav?tab=accounts', '/5264359/tandav'          ),\n",
    "    medium        = ('https://medium.com/@thetandav'                              , 'thetandav'                ),\n",
    "    reddit        = ('https://reddit.com/user/thetandav'                          , 'thetandav'                ),\n",
    "    linkedin      = ('https://linkedin.com/in/thetandav'                          , 'thetandav'                ),\n",
    "    google_photos = ('https://photos.google.com/share/AF1QipM99jafQmFqBNJAeZQLw6y1WGQFE8RumOY-GhZnEMdhog_oAgj43m6OOaCbWN2IFQ?key=dndScVloeHZYY1dBRzRLb1FZd2tmRm15clhRVUl3', 'shared album'),\n",
    ")\n",
    "\n",
    "\n",
    "main_html = ''\n",
    "website_w  = max(map(len, contacts.keys()))\n",
    "url_w      = max(map(len, [url for url, username in contacts.values()]))\n",
    "username_w = max(map(len, [username for url, username in contacts.values()]))\n",
    "for website, (url, username) in contacts.items():\n",
    "    main_html += f\"<img align='center' src='https://s2.googleusercontent.com/s2/favicons?domain={urlparse(url).hostname}'>{website.ljust(website_w)} <a href = '{url.ljust(url_w)}'>{username.ljust(username_w)}</a>\\n\""
   ]
  },
  {
   "cell_type": "code",
   "execution_count": 4,
   "metadata": {},
   "outputs": [
    {
     "data": {
      "text/plain": [
       "6272"
      ]
     },
     "execution_count": 4,
     "metadata": {},
     "output_type": "execute_result"
    }
   ],
   "source": [
    "html = string.Template('''\n",
    "<pre>\n",
    "<h1>tandav.github.io</h1>\n",
    "$main\n",
    "</pre>\n",
    "\n",
    "<style>\n",
    "\n",
    "pre {\n",
    "    font-size: 14pt;\n",
    "    margin-left: auto;\n",
    "    margin-right: auto;\n",
    "    width: 500px;\n",
    "    background-color: rgba(0,0,0,0.03);\n",
    "    padding: 30px;\n",
    "}\n",
    "\n",
    "a {\n",
    "    text-decoration: none;\n",
    "    color: rgba(0,0,0,0.6);\n",
    "}\n",
    "\n",
    "a:hover {\n",
    "    text-decoration: underline;\n",
    "    color: black;\n",
    "}\n",
    "\n",
    "img {\n",
    "    padding-right: 3px;\n",
    "}\n",
    "\n",
    "</style>\n",
    "''').substitute(main = main_html)\n",
    "# print(html)\n",
    "Path('index.html').write_text(html)"
   ]
  },
  {
   "cell_type": "code",
   "execution_count": null,
   "metadata": {},
   "outputs": [],
   "source": []
  }
 ],
 "metadata": {
  "kernelspec": {
   "display_name": "Python 3",
   "language": "python",
   "name": "python3"
  },
  "language_info": {
   "codemirror_mode": {
    "name": "ipython",
    "version": 3
   },
   "file_extension": ".py",
   "mimetype": "text/x-python",
   "name": "python",
   "nbconvert_exporter": "python",
   "pygments_lexer": "ipython3",
   "version": "3.8.2"
  }
 },
 "nbformat": 4,
 "nbformat_minor": 4
}
